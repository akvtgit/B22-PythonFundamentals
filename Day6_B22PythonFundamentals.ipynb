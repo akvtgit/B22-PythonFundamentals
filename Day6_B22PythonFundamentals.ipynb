{
 "cells": [
  {
   "cell_type": "code",
   "execution_count": 3,
   "metadata": {},
   "outputs": [
    {
     "name": "stdout",
     "output_type": "stream",
     "text": [
      "Bank wishes you a wealthy new year, Ashok\n"
     ]
    }
   ],
   "source": [
    "#For Loops - Greeting msg\n",
    "Bank_customers = ['Ashok','Bala','chinna','Dhanraj','Elizbeth','Hafeesh']\n",
    "print(f\"Bank wishes you a wealthy new year, {Bank_customers[0].title()}\")"
   ]
  },
  {
   "cell_type": "code",
   "execution_count": 4,
   "metadata": {},
   "outputs": [
    {
     "name": "stdout",
     "output_type": "stream",
     "text": [
      "Bank wishes you a Wealthy new year, Ashok\n",
      "Bank wishes you a Wealthy new year, Bala\n",
      "Bank wishes you a Wealthy new year, chinna\n",
      "Bank wishes you a Wealthy new year, Dhanraj\n",
      "Bank wishes you a Wealthy new year, Elizbeth\n",
      "Bank wishes you a Wealthy new year, Hafeesh\n"
     ]
    }
   ],
   "source": [
    "for customers in Bank_customers:\n",
    "    print(f\"Bank wishes you a Wealthy new year, {customers}\")"
   ]
  },
  {
   "cell_type": "code",
   "execution_count": 6,
   "metadata": {},
   "outputs": [],
   "source": [
    "#Genral Syntax \n",
    "#for tempvar in mainvar: ------>Indentation which showcase body of loop syntax\n",
    "#    print(tempvar)"
   ]
  },
  {
   "cell_type": "code",
   "execution_count": 8,
   "metadata": {},
   "outputs": [
    {
     "ename": "IndentationError",
     "evalue": "expected an indented block (<ipython-input-8-9cc8863c5734>, line 2)",
     "output_type": "error",
     "traceback": [
      "\u001b[1;36m  File \u001b[1;32m\"<ipython-input-8-9cc8863c5734>\"\u001b[1;36m, line \u001b[1;32m2\u001b[0m\n\u001b[1;33m    print(tempvar)\u001b[0m\n\u001b[1;37m        ^\u001b[0m\n\u001b[1;31mIndentationError\u001b[0m\u001b[1;31m:\u001b[0m expected an indented block\n"
     ]
    }
   ],
   "source": [
    "for tempvar in mainvar:\n",
    "print(tempvar)"
   ]
  },
  {
   "cell_type": "code",
   "execution_count": 10,
   "metadata": {},
   "outputs": [
    {
     "ename": "NameError",
     "evalue": "name 'mainvar' is not defined",
     "output_type": "error",
     "traceback": [
      "\u001b[1;31m---------------------------------------------------------------------------\u001b[0m",
      "\u001b[1;31mNameError\u001b[0m                                 Traceback (most recent call last)",
      "\u001b[1;32m<ipython-input-10-79cff90acbb9>\u001b[0m in \u001b[0;36m<module>\u001b[1;34m\u001b[0m\n\u001b[1;32m----> 1\u001b[1;33m \u001b[1;32mfor\u001b[0m \u001b[0mtempvar\u001b[0m \u001b[1;32min\u001b[0m \u001b[0mmainvar\u001b[0m\u001b[1;33m:\u001b[0m\u001b[1;33m\u001b[0m\u001b[1;33m\u001b[0m\u001b[0m\n\u001b[0m\u001b[0;32m      2\u001b[0m     \u001b[0mprint\u001b[0m\u001b[1;33m(\u001b[0m\u001b[0mtempvar\u001b[0m\u001b[1;33m)\u001b[0m\u001b[1;33m\u001b[0m\u001b[1;33m\u001b[0m\u001b[0m\n",
      "\u001b[1;31mNameError\u001b[0m: name 'mainvar' is not defined"
     ]
    }
   ],
   "source": [
    "for tempvar in mainvar:\n",
    "    print(tempvar)"
   ]
  },
  {
   "cell_type": "code",
   "execution_count": 11,
   "metadata": {},
   "outputs": [],
   "source": [
    "my_students=['Ashok','Bala','chinna','Dhanraj','Elizbeth','Hafeesh']"
   ]
  },
  {
   "cell_type": "code",
   "execution_count": 12,
   "metadata": {},
   "outputs": [
    {
     "name": "stdout",
     "output_type": "stream",
     "text": [
      "Ashok\n",
      "Bala\n",
      "chinna\n",
      "Dhanraj\n",
      "Elizbeth\n",
      "Hafeesh\n"
     ]
    }
   ],
   "source": [
    "for students in my_students:\n",
    "    print(students)"
   ]
  },
  {
   "cell_type": "code",
   "execution_count": 14,
   "metadata": {},
   "outputs": [
    {
     "name": "stdout",
     "output_type": "stream",
     "text": [
      "Good Job, Ashok\n",
      "Good Job, Bala\n",
      "Good Job, Chinna\n",
      "Good Job, Dhanraj\n",
      "Good Job, Elizbeth\n",
      "Good Job, Hafeesh\n"
     ]
    }
   ],
   "source": [
    "for students in my_students:\n",
    "    print(f\"Good Job, {students.title()}\")"
   ]
  },
  {
   "cell_type": "code",
   "execution_count": 16,
   "metadata": {},
   "outputs": [
    {
     "name": "stdout",
     "output_type": "stream",
     "text": [
      "Good Job, Ashok\n",
      "I am awaiting for your files of today, Ashok\n",
      "Good Job, Bala\n",
      "I am awaiting for your files of today, Bala\n",
      "Good Job, Chinna\n",
      "I am awaiting for your files of today, Chinna\n",
      "Good Job, Dhanraj\n",
      "I am awaiting for your files of today, Dhanraj\n",
      "Good Job, Elizbeth\n",
      "I am awaiting for your files of today, Elizbeth\n",
      "Good Job, Hafeesh\n",
      "I am awaiting for your files of today, Hafeesh\n"
     ]
    }
   ],
   "source": [
    "for students in my_students:\n",
    "    print(f\"Good Job, {students.title()}\")\n",
    "    print(f\"I am awaiting for your files of today, {students.title()}\")"
   ]
  },
  {
   "cell_type": "code",
   "execution_count": 17,
   "metadata": {},
   "outputs": [
    {
     "name": "stdout",
     "output_type": "stream",
     "text": [
      "Good Job, Ashok\n",
      "I am awaiting for your files of today, Ashok\n",
      "\n",
      "Good Job, Bala\n",
      "I am awaiting for your files of today, Bala\n",
      "\n",
      "Good Job, Chinna\n",
      "I am awaiting for your files of today, Chinna\n",
      "\n",
      "Good Job, Dhanraj\n",
      "I am awaiting for your files of today, Dhanraj\n",
      "\n",
      "Good Job, Elizbeth\n",
      "I am awaiting for your files of today, Elizbeth\n",
      "\n",
      "Good Job, Hafeesh\n",
      "I am awaiting for your files of today, Hafeesh\n",
      "\n"
     ]
    }
   ],
   "source": [
    "for students in my_students:\n",
    "    print(f\"Good Job, {students.title()}\")\n",
    "    print(f\"I am awaiting for your files of today, {students.title()}\\n\")"
   ]
  },
  {
   "cell_type": "code",
   "execution_count": 21,
   "metadata": {},
   "outputs": [
    {
     "name": "stdout",
     "output_type": "stream",
     "text": [
      "Have a wonderful learning python, Ashok\n",
      "\n",
      "Have a wonderful learning python, Bala\n",
      "\n",
      "Have a wonderful learning python, Chinna\n",
      "\n",
      "Have a wonderful learning python, Dhanraj\n",
      "\n",
      "Have a wonderful learning python, Elizbeth\n",
      "\n",
      "Have a wonderful learning python, Hafeesh\n",
      "\n",
      "Have a nice day guys by uploading your files to GitHub :)\n"
     ]
    }
   ],
   "source": [
    "for students in my_students:\n",
    "    print(f\"Have a wonderful learning python, {students.title()}\\n\")\n",
    "\n",
    "print(f\"Have a nice day guys by uploading your files to GitHub :)\")"
   ]
  },
  {
   "cell_type": "code",
   "execution_count": null,
   "metadata": {},
   "outputs": [],
   "source": []
  },
  {
   "cell_type": "code",
   "execution_count": null,
   "metadata": {},
   "outputs": [],
   "source": []
  },
  {
   "cell_type": "code",
   "execution_count": null,
   "metadata": {},
   "outputs": [],
   "source": []
  }
 ],
 "metadata": {
  "kernelspec": {
   "display_name": "Python 3",
   "language": "python",
   "name": "python3"
  },
  "language_info": {
   "codemirror_mode": {
    "name": "ipython",
    "version": 3
   },
   "file_extension": ".py",
   "mimetype": "text/x-python",
   "name": "python",
   "nbconvert_exporter": "python",
   "pygments_lexer": "ipython3",
   "version": "3.7.6"
  }
 },
 "nbformat": 4,
 "nbformat_minor": 4
}
